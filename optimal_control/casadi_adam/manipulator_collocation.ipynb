{
 "cells": [
  {
   "cell_type": "markdown",
   "id": "fe2514ed",
   "metadata": {
    "slideshow": {
     "slide_type": "slide"
    }
   },
   "source": [
    "# Collocation Optimal Control for a Robot Manipulator\n",
    "Objective: optimize a trajectory for a robot manipulator using the collocation approach."
   ]
  },
  {
   "cell_type": "markdown",
   "id": "73fcece6",
   "metadata": {
    "slideshow": {
     "slide_type": "slide"
    }
   },
   "source": [
    "# Modeling a Robot Manipulator\n",
    "We use as state of the robot manipulator its joint positions and velocities:\n",
    "$$ x = (q, \\dot{q})$$\n",
    "The control inputs would normally be the joint torques $\\tau$:\n",
    "$$ u = \\tau $$"
   ]
  },
  {
   "cell_type": "markdown",
   "id": "38749db6",
   "metadata": {
    "slideshow": {
     "slide_type": "fragment"
    }
   },
   "source": [
    "The system dynamics is then represented by the so-called **forward dynamics** function:\n",
    "$$ \\ddot{q} = M(q)^{-1}(u - h(x))$$"
   ]
  },
  {
   "cell_type": "markdown",
   "id": "0d5b15af",
   "metadata": {
    "slideshow": {
     "slide_type": "fragment"
    }
   },
   "source": [
    "The joint torque bounds are then simple bounds on the control inputs:\n",
    "$$ \\tau_{min} \\le u \\le \\tau_{max}$$"
   ]
  },
  {
   "cell_type": "markdown",
   "id": "bd098288",
   "metadata": {
    "slideshow": {
     "slide_type": "subslide"
    }
   },
   "source": [
    "## Alternative model\n",
    "Rather than using the torques as control input, we can assume the control inputs are the joint accelerations $\\ddot{q}$."
   ]
  },
  {
   "cell_type": "markdown",
   "id": "1661410b",
   "metadata": {
    "slideshow": {
     "slide_type": "fragment"
    }
   },
   "source": [
    "The system dynamics then is simply a double integrator:\n",
    "$$ \\ddot{q} = u$$"
   ]
  },
  {
   "cell_type": "markdown",
   "id": "40c87e67",
   "metadata": {
    "slideshow": {
     "slide_type": "fragment"
    }
   },
   "source": [
    "However, the torque bounds become nonlinear constraints depending on both $x$ and $u$, because the joint torques need to be computed using the **inverse dynamics** function:\n",
    "$$\\tau_{min} \\le \\underbrace{M(q) u + h(x)}_{\\text{inv_dyn}(q, \\dot{q}, \\ddot{q})} \\le \\tau_{max}$$"
   ]
  },
  {
   "cell_type": "markdown",
   "id": "adcad634",
   "metadata": {
    "slideshow": {
     "slide_type": "slide"
    }
   },
   "source": [
    "# Model Choice\n",
    "We can choose whether to adopt the first model:\n",
    "* $u = \\tau$\n",
    "* Nonlinear dynamics (forward dynamics)\n",
    "* Simple bounds for torque limits\n",
    "\n",
    "Or we can use the second model:\n",
    "* $u = \\ddot{q}$\n",
    "* Linear dynamics\n",
    "* Nonlinear inequalities for torque limits (inverse dynamics)"
   ]
  },
  {
   "cell_type": "markdown",
   "id": "61d8b08b",
   "metadata": {
    "slideshow": {
     "slide_type": "subslide"
    }
   },
   "source": [
    "Since the **inverse dynamics** function is faster to evaluate than the **forward dynamics** function, the second model ($u=\\ddot{q}$) should be computationally more efficient.\n",
    "\n",
    "Moreover, the library (Adam) that we use for modeling the robot dynamics does not currently implement the **forward dynamics** function directly, so it is easier to use the second model."
   ]
  },
  {
   "cell_type": "markdown",
   "id": "a8c75fb3",
   "metadata": {
    "slideshow": {
     "slide_type": "slide"
    }
   },
   "source": [
    "# Problem Formulation\n",
    "Let's implement the following optimal control problem:\n",
    "$$ \\min_{X, U} \\quad \\sum_{k=0}^{N-1} (w_p ||y(q_k)-y^d||^2 + w_v ||\\dot{q}_k||^2 + w_a ||u_k||^2) + w_{final} ||y(q_N)-y^d||^2 + w_{final} ||\\dot{q}||^2$$\n",
    "$$\\text{subject to} \\quad \n",
    "q_{k+1} = q_k + \\Delta t \\dot{q}_k, \\qquad \n",
    "\\dot{q}_{k+1} = \\dot{q}_k + \\Delta t u_k \\qquad \n",
    "\\forall k \\in [0, N-1] \\qquad \\qquad \\qquad \\qquad$$\n",
    "$$\\qquad \\qquad \n",
    "q^{min} \\le q_{k} \\le q^{max}, \\qquad \n",
    "-\\dot{q}^{max} \\le \\dot{q}_{k} \\le \\dot{q}^{max} \\quad \n",
    "\\forall k \\in [1, N]  \\qquad \\qquad \\qquad \\qquad$$\n",
    "$$\\qquad \\qquad \n",
    "\\tau_{min} \\le \\text{inv_dyn}(q_k, \\dot{q}_k, u_k) \\le \\tau_{max} \\qquad\\qquad\\qquad\n",
    "\\forall k \\in [0, N-1]  \\qquad \\qquad \\qquad \\qquad$$\n",
    "$$ x_0 = x_{init} \\qquad \\qquad  \\qquad \\qquad \\qquad \\qquad$$\n",
    "where $y(q)$ is the position of the end-effector."
   ]
  },
  {
   "cell_type": "code",
   "execution_count": 1,
   "id": "e1d6d9b9",
   "metadata": {
    "slideshow": {
     "slide_type": "slide"
    }
   },
   "outputs": [],
   "source": [
    "import numpy as np\n",
    "import matplotlib.pyplot as plt\n",
    "from adam.casadi.computations import KinDynComputations\n",
    "import casadi as cs\n",
    "from time import time as clock\n",
    "from time import sleep\n",
    "\n",
    "import orc.utils.plot_utils as plut\n",
    "from example_robot_data.robots_loader import load\n",
    "import orc.optimal_control.casadi_adam.conf_ur5 as conf_ur5"
   ]
  },
  {
   "cell_type": "code",
   "execution_count": 2,
   "id": "7480ce32",
   "metadata": {
    "slideshow": {
     "slide_type": "slide"
    }
   },
   "outputs": [],
   "source": [
    "robot = load(\"ur5\")\n",
    "joints_name_list = [s for s in robot.model.names[1:]] # skip the first name because it is \"universe\"\n",
    "nq = len(joints_name_list)  # number of joints\n",
    "nx = 2*nq                   # size of the state variable"
   ]
  },
  {
   "cell_type": "code",
   "execution_count": 3,
   "id": "6843ae2a",
   "metadata": {
    "slideshow": {
     "slide_type": "slide"
    }
   },
   "outputs": [],
   "source": [
    "dt = 0.02           # OCP time step\n",
    "N = 75              # number of OCP time steps\n",
    "q0 = np.zeros(nq)   # initial joint configuration\n",
    "dq0= np.zeros(nq)   # initial joint velocities\n",
    "x_init = np.concatenate([q0, dq0])\n",
    "frame_name = \"ee_link\"\n",
    "ee_des = np.array([0, -0.45, 0]) # desired end-effector position"
   ]
  },
  {
   "cell_type": "code",
   "execution_count": 4,
   "id": "b95463ed",
   "metadata": {
    "slideshow": {
     "slide_type": "slide"
    }
   },
   "outputs": [],
   "source": [
    "# create the dynamics function\n",
    "q   = cs.SX.sym('q', nq)\n",
    "dq  = cs.SX.sym('dq', nq)\n",
    "ddq = cs.SX.sym('ddq', nq)\n",
    "state = cs.vertcat(q, dq)\n",
    "rhs    = cs.vertcat(dq, ddq)\n",
    "f = cs.Function('f', [state, ddq], [rhs])"
   ]
  },
  {
   "cell_type": "code",
   "execution_count": 5,
   "id": "15d36085",
   "metadata": {
    "slideshow": {
     "slide_type": "slide"
    }
   },
   "outputs": [],
   "source": [
    "# create a Casadi inverse dynamics function\n",
    "kinDyn = KinDynComputations(robot.urdf, joints_name_list)\n",
    "H_b = cs.SX.eye(4)     # base configuration\n",
    "v_b = cs.SX.zeros(6)   # base velocity\n",
    "bias_forces = kinDyn.bias_force_fun()\n",
    "mass_matrix = kinDyn.mass_matrix_fun()\n",
    "# discard the first 6 elements because they are associated to the robot base\n",
    "h = bias_forces(H_b, q, v_b, dq)[6:]\n",
    "M = mass_matrix(H_b, q)[6:,6:]\n",
    "tau = M @ ddq + h\n",
    "inv_dyn = cs.Function('inv_dyn', [state, ddq], [tau])"
   ]
  },
  {
   "cell_type": "code",
   "execution_count": 6,
   "id": "f47bab50",
   "metadata": {
    "slideshow": {
     "slide_type": "slide"
    }
   },
   "outputs": [],
   "source": [
    "# create a Casadi forward kinematics function\n",
    "if(frame_name not in kinDyn.rbdalgos.model.links.keys()):\n",
    "    print(\"ERROR. Frame name can only take values from this list\")\n",
    "fk_fun = kinDyn.forward_kinematics_fun(frame_name)\n",
    "ee_pos = fk_fun(H_b, q)[:3, 3]\n",
    "fk = cs.Function('fk', [q], [ee_pos])"
   ]
  },
  {
   "cell_type": "code",
   "execution_count": 7,
   "id": "0dea8e37",
   "metadata": {
    "slideshow": {
     "slide_type": "slide"
    }
   },
   "outputs": [],
   "source": [
    "# pre-compute state and torque bounds\n",
    "lbx = robot.model.lowerPositionLimit.tolist() + (-robot.model.velocityLimit).tolist()\n",
    "ubx = robot.model.upperPositionLimit.tolist() + robot.model.velocityLimit.tolist()\n",
    "tau_min = (-robot.model.effortLimit).tolist()\n",
    "tau_max = robot.model.effortLimit.tolist()"
   ]
  },
  {
   "cell_type": "code",
   "execution_count": 8,
   "id": "b5f0755d",
   "metadata": {
    "slideshow": {
     "slide_type": "slide"
    }
   },
   "outputs": [],
   "source": [
    "# create all the decision variables\n",
    "def create_decision_variables(N, nx, nu, lbx, ubx):\n",
    "    opti = cs.Opti()\n",
    "    X, U = [], []\n",
    "    for k in range(N+1): \n",
    "        X += [opti.variable(nx)]\n",
    "        opti.subject_to( opti.bounded(lbx, X[-1], ubx) )\n",
    "    for k in range(N): \n",
    "        U += [opti.variable(nu)]\n",
    "    return opti, X, U"
   ]
  },
  {
   "cell_type": "code",
   "execution_count": 9,
   "id": "57093393",
   "metadata": {
    "slideshow": {
     "slide_type": "slide"
    }
   },
   "outputs": [],
   "source": [
    "def define_running_cost_and_dynamics(opti, X, U, N, dt, x_init, ee_des, w_p, w_v, w_a, tau_min, tau_max):\n",
    "    opti.subject_to(X[0] == x_init)\n",
    "    cost = 0.0\n",
    "    for k in range(N):     \n",
    "        # Compute cost function\n",
    "        ee_pos = fk(X[k][:nq])\n",
    "        cost += w_p * (ee_pos - ee_des).T @ (ee_pos - ee_des) * dt \n",
    "        cost += w_v * X[k][nq:].T @ X[k][nq:] * dt\n",
    "        cost += w_a * U[k].T @ U[k] * dt\n",
    "\n",
    "        # Add dynamics constraints\n",
    "        opti.subject_to(X[k+1] == X[k] + dt * f(X[k], U[k]))\n",
    "\n",
    "        # Add torque constraints\n",
    "        opti.subject_to( opti.bounded(tau_min, inv_dyn(X[k], U[k]), tau_max))\n",
    "    return cost"
   ]
  },
  {
   "cell_type": "code",
   "execution_count": 10,
   "id": "01a283d8",
   "metadata": {
    "slideshow": {
     "slide_type": "slide"
    }
   },
   "outputs": [],
   "source": [
    "# add the terminal cost on end-effector position and velocity\n",
    "def define_terminal_cost(X, ee_des, w_final):\n",
    "    err_pos = fk(X[-1][:nq]) - ee_des\n",
    "    cost = w_final * err_pos.T @ err_pos\n",
    "    cost += w_final * X[-1][nq:].T @ X[-1][nq:]\n",
    "    return cost"
   ]
  },
  {
   "cell_type": "code",
   "execution_count": 21,
   "id": "739716f9",
   "metadata": {
    "slideshow": {
     "slide_type": "slide"
    }
   },
   "outputs": [],
   "source": [
    "def create_and_solve_ocp(N, nx, nq, lbx, ubx, dt, x_init, \n",
    "                        ee_des, w_p, w_v, w_a, w_final, tau_min, tau_max):\n",
    "    opti, X, U = create_decision_variables(N, nx, nq, lbx, ubx)\n",
    "    running_cost = define_running_cost_and_dynamics(opti, X, U, N, dt, x_init, \n",
    "                                                    ee_des, w_p, w_v, w_a, tau_min, tau_max)\n",
    "    terminal_cost = define_terminal_cost(X, ee_des, w_final)\n",
    "    opti.minimize(running_cost + terminal_cost)\n",
    "    \n",
    "    # Create the optimization problem\n",
    "    opts = {\"ipopt.print_level\": 0, \"print_time\": 0, \"ipopt.tol\": 1e-4,\n",
    "            \"ipopt.constr_viol_tol\": 1e-4, \"ipopt.compl_inf_tol\": 1e-4}\n",
    "    opti.solver(\"ipopt\", opts)\n",
    "    \n",
    "    t0 = time.time()\n",
    "    sol = opti.solve()\n",
    "    t1 = time.time()\n",
    "    print(\"Solver time\", t1-t0)\n",
    "    \n",
    "    return sol, X, U"
   ]
  },
  {
   "cell_type": "code",
   "execution_count": 12,
   "id": "c5b051e6",
   "metadata": {
    "slideshow": {
     "slide_type": "slide"
    }
   },
   "outputs": [],
   "source": [
    "def extract_solution(sol, X, U):\n",
    "    x_sol = np.array([sol.value(X[k]) for k in range(N+1)]).T\n",
    "    ddq_sol = np.array([sol.value(U[k]) for k in range(N)]).T\n",
    "    q_sol = x_sol[:nq,:]\n",
    "    dq_sol = x_sol[nq:,:]\n",
    "    # compute joint torques trajectory\n",
    "    tau = np.zeros((nq, N))\n",
    "    for i in range(N):\n",
    "        tau[:,i] = inv_dyn(x_sol[:,i], ddq_sol[:,i]).toarray().squeeze()\n",
    "    # compute end-effector trajectory\n",
    "    ee = np.zeros((3, N+1))\n",
    "    for i in range(N+1):\n",
    "        ee[:,i] = fk(x_sol[:nq,i]).toarray().squeeze()\n",
    "    return q_sol, dq_sol, ddq_sol, tau, ee"
   ]
  },
  {
   "cell_type": "code",
   "execution_count": 13,
   "id": "5cb929bc",
   "metadata": {
    "slideshow": {
     "slide_type": "slide"
    }
   },
   "outputs": [
    {
     "name": "stdout",
     "output_type": "stream",
     "text": [
      "You can open the visualizer by visiting the following URL:\n",
      "http://127.0.0.1:7003/static/\n"
     ]
    }
   ],
   "source": [
    "from orc.utils.robot_wrapper import RobotWrapper\n",
    "from orc.utils.robot_simulator import RobotSimulator\n",
    "from orc.utils.viz_utils import addViewerSphere, applyViewerConfiguration\n",
    "import time\n",
    "\n",
    "r = RobotWrapper(robot.model, robot.collision_model, robot.visual_model)\n",
    "simu = RobotSimulator(conf_ur5, r)\n",
    "simu.init(q0, dq0)\n",
    "simu.display(q0)\n",
    "\n",
    "REF_SPHERE_RADIUS = 0.05\n",
    "EE_REF_SPHERE_COLOR = np.array([1, 0, 0, .5])\n",
    "addViewerSphere(r.viz, 'world/ee_ref', REF_SPHERE_RADIUS, EE_REF_SPHERE_COLOR)\n",
    "\n",
    "def display_motion(q_traj):\n",
    "    applyViewerConfiguration(r.viz, 'world/ee_ref', ee_des.tolist()+[0,0,0,1.])\n",
    "    for i in range(N):\n",
    "        t0 = time.time()\n",
    "        simu.display(q_traj[:,i])\n",
    "        t1 = time.time()\n",
    "        if(t1-t0 < dt):\n",
    "            sleep(dt - (t1-t0))"
   ]
  },
  {
   "cell_type": "code",
   "execution_count": 14,
   "id": "3599c8a6",
   "metadata": {
    "slideshow": {
     "slide_type": "slide"
    }
   },
   "outputs": [],
   "source": [
    "def solve_and_display(log_w_p, log_w_v, log_w_a, log_w_final):\n",
    "    sol, X, U = create_and_solve_ocp(N, nx, nq, lbx, ubx, dt, x_init, ee_des, \n",
    "                                     10**log_w_p, 10**log_w_v, 10**log_w_a, 10**log_w_final, \n",
    "                                     tau_min, tau_max)\n",
    "    q_sol, dq_sol, u_sol, tau, ee = extract_solution(sol, X, U)\n",
    "    display_motion(q_sol)"
   ]
  },
  {
   "cell_type": "code",
   "execution_count": 15,
   "id": "3e7e323a",
   "metadata": {
    "slideshow": {
     "slide_type": "slide"
    }
   },
   "outputs": [
    {
     "data": {
      "text/html": [
       "\n",
       "            <div style=\"height: 400px; width: 100%; overflow-x: auto; overflow-y: hidden; resize: both\">\n",
       "            <iframe src=\"http://127.0.0.1:7003/static/\" style=\"width: 100%; height: 100%; border: none\"></iframe>\n",
       "            </div>\n",
       "            "
      ],
      "text/plain": [
       "<IPython.core.display.HTML object>"
      ]
     },
     "execution_count": 15,
     "metadata": {},
     "output_type": "execute_result"
    }
   ],
   "source": [
    "r.viz.viewer.jupyter_cell()"
   ]
  },
  {
   "cell_type": "code",
   "execution_count": 22,
   "id": "7ab97cf8",
   "metadata": {
    "slideshow": {
     "slide_type": "fragment"
    }
   },
   "outputs": [
    {
     "data": {
      "application/vnd.jupyter.widget-view+json": {
       "model_id": "9c69f7804250471988827f535ced162b",
       "version_major": 2,
       "version_minor": 0
      },
      "text/plain": [
       "interactive(children=(IntSlider(value=-3, description='log_w_p', max=0, min=-6), IntSlider(value=-3, descripti…"
      ]
     },
     "metadata": {},
     "output_type": "display_data"
    },
    {
     "data": {
      "text/plain": [
       "<function __main__.solve_and_display(log_w_p, log_w_v, log_w_a, log_w_final)>"
      ]
     },
     "execution_count": 22,
     "metadata": {},
     "output_type": "execute_result"
    }
   ],
   "source": [
    "from ipywidgets import interact, fixed\n",
    "interact(solve_and_display, log_w_p=(-6,0,1), log_w_v=(-6,0,1), log_w_a=(-6,0,1), log_w_final=(-6,0,1))"
   ]
  },
  {
   "cell_type": "code",
   "execution_count": 19,
   "id": "92ab8159",
   "metadata": {
    "slideshow": {
     "slide_type": "slide"
    }
   },
   "outputs": [],
   "source": [
    "def solve_and_plot(log_w_p, log_w_v, log_w_a, log_w_final):\n",
    "    sol, X, U = create_and_solve_ocp(N, nx, nq, lbx, ubx, dt, x_init, ee_des, \n",
    "                                     10**log_w_p, 10**log_w_v, 10**log_w_a, 10**log_w_final, \n",
    "                                     tau_min, tau_max)\n",
    "    q_sol, dq_sol, u_sol, tau, ee = extract_solution(sol, X, U)\n",
    "    tt = np.linspace(0, (N+1)*dt, N+1)\n",
    "\n",
    "    plt.figure(figsize=(10, 4))\n",
    "    for i in range(3):\n",
    "        plt.plot([tt[0], tt[-1]], [ee_des[i], ee_des[i]], ':', label=f'EE des {i}', alpha=0.7)\n",
    "        plt.plot(tt, ee[i,:].T, label=f'EE {i}', alpha=0.7)\n",
    "    plt.xlabel('Time [s]')\n",
    "    plt.ylabel('End-effector pos [m]')\n",
    "    plt.legend()\n",
    "    plt.grid(True)\n",
    "\n",
    "    plt.figure(figsize=(10, 4))\n",
    "    for i in range(dq_sol.shape[0]):\n",
    "        plt.plot(tt, dq_sol[i,:].T, label=f'dq {i}', alpha=0.7)\n",
    "    plt.xlabel('Time [s]')\n",
    "    plt.ylabel('Joint velocity [rad/s]')\n",
    "    plt.legend()\n",
    "    plt.grid(True)\n",
    "\n",
    "    plt.figure(figsize=(10, 4))\n",
    "    for i in range(tau.shape[0]):\n",
    "        plt.plot(tt[:-1], tau[i,:].T, label=f'tau {i}', alpha=0.7)\n",
    "    plt.xlabel('Time [s]')\n",
    "    plt.ylabel('Joint torque [Nm]')\n",
    "    plt.legend()\n",
    "    plt.grid(True)\n",
    "    plt.show()"
   ]
  },
  {
   "cell_type": "code",
   "execution_count": 20,
   "id": "d1e0a4a1",
   "metadata": {
    "scrolled": false,
    "slideshow": {
     "slide_type": "slide"
    }
   },
   "outputs": [
    {
     "data": {
      "application/vnd.jupyter.widget-view+json": {
       "model_id": "0b2f148a8d1b442ebd79839ecc9810b9",
       "version_major": 2,
       "version_minor": 0
      },
      "text/plain": [
       "interactive(children=(IntSlider(value=-3, description='log_w_p', max=0, min=-6), IntSlider(value=-3, descripti…"
      ]
     },
     "metadata": {},
     "output_type": "display_data"
    },
    {
     "data": {
      "text/plain": [
       "<function __main__.solve_and_plot(log_w_p, log_w_v, log_w_a, log_w_final)>"
      ]
     },
     "execution_count": 20,
     "metadata": {},
     "output_type": "execute_result"
    }
   ],
   "source": [
    "interact(solve_and_plot, log_w_p=(-6,0,1), log_w_v=(-6,0,1), log_w_a=(-6,0,1), log_w_final=(-6,0,1))"
   ]
  }
 ],
 "metadata": {
  "celltoolbar": "Slideshow",
  "kernelspec": {
   "display_name": "Python 3 (ipykernel)",
   "language": "python",
   "name": "python3"
  },
  "language_info": {
   "codemirror_mode": {
    "name": "ipython",
    "version": 3
   },
   "file_extension": ".py",
   "mimetype": "text/x-python",
   "name": "python",
   "nbconvert_exporter": "python",
   "pygments_lexer": "ipython3",
   "version": "3.10.13"
  }
 },
 "nbformat": 4,
 "nbformat_minor": 5
}
