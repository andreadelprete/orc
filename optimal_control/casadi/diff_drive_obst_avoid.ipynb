{
 "cells": [
  {
   "cell_type": "markdown",
   "id": "52e80b62",
   "metadata": {
    "slideshow": {
     "slide_type": "slide"
    }
   },
   "source": [
    "   # Obstacle Avoidance with Differential Drive robots\n",
    "\n",
    "Let us try to use optimal control to compute optimal trajectories for a **differential drive** robot that must **reach a target** while **avoiding collisions** with static obstacles."
   ]
  },
  {
   "cell_type": "markdown",
   "id": "5310d6db",
   "metadata": {
    "slideshow": {
     "slide_type": "slide"
    }
   },
   "source": [
    "## Modeling a Differential Drive Robot\n",
    "The state of a differential robot is typically defined by its 2D position $(p_x, p_y)$ and its orientation on the plane $\\theta$:\n",
    "$$ x = [p_x, p_y, \\theta]$$\n",
    "\n",
    "The control inputs are the linear velocity $v$ and the angular velocity $\\omega$:\n",
    "$$ u = [v, \\omega]$$"
   ]
  },
  {
   "cell_type": "markdown",
   "id": "2fd9e2a7",
   "metadata": {
    "slideshow": {
     "slide_type": "fragment"
    }
   },
   "source": [
    "Its dynamics is defined by the following nonlinear differential equations:\n",
    "$$ \\dot{p}_x = v \\cos(\\theta)$$\n",
    "$$ \\dot{p}_y = v \\sin(\\theta)$$\n",
    "$$ \\dot{\\theta} = \\omega $$\n",
    "\n",
    "Let's define the dynamics function using Casadi."
   ]
  },
  {
   "cell_type": "code",
   "execution_count": 1,
   "id": "d4cf6437",
   "metadata": {
    "slideshow": {
     "slide_type": "subslide"
    }
   },
   "outputs": [],
   "source": [
    "import casadi as cs\n",
    "\n",
    "nx = 3 # size of state vector x\n",
    "nu = 2 # size of control vector u\n",
    "\n",
    "# create the dynamics function\n",
    "x   = cs.SX.sym('x', nx) # x = [px, py, theta]\n",
    "u   = cs.SX.sym('u', nu) # u = [v, w]\n",
    "rhs    = cs.vertcat(cs.cos(x[-1])*u[0], \n",
    "                    cs.sin(x[-1])*u[0], \n",
    "                    u[1])\n",
    "f = cs.Function('f', [x, u], [rhs])"
   ]
  },
  {
   "cell_type": "markdown",
   "id": "37d1d2c5",
   "metadata": {
    "slideshow": {
     "slide_type": "slide"
    }
   },
   "source": [
    "# Trajectory optimization problem\n",
    "\n",
    "Let us create a base problem to reach a state $x_{des}$ in a given time horizon $N$, while minimizing the control inputs $u$ in squared norm.\n",
    "$$ \\min_{X, U} \\quad \\sum_{k=0}^{N-1} w_u ||u_k||^2 + ||x_{N} - x_{des}||^2$$\n",
    "$$ \\text{subject to} \\quad x_{k+1} = f(x_k, u_k) \\quad \\forall k=0, \\dots, N-1$$\n",
    "$$ \\qquad \\qquad\\, u_{min} \\le u_{k} \\le u_{max} \\quad \\forall k=0, \\dots, N-1$$"
   ]
  },
  {
   "cell_type": "code",
   "execution_count": 2,
   "id": "5f752d30",
   "metadata": {
    "slideshow": {
     "slide_type": "subslide"
    }
   },
   "outputs": [],
   "source": [
    "def create_base_problem(x_init, x_des, u_min, u_max, w_u, N, dt):\n",
    "    opti = cs.Opti()\n",
    "\n",
    "    # Create all decision variables for state and control\n",
    "    X, U = [], []\n",
    "    for k in range(N+1): \n",
    "        X += [opti.variable(nx)]\n",
    "    for k in range(N): \n",
    "        U += [opti.variable(nu)]\n",
    "        opti.subject_to( opti.bounded(u_min, U[-1], u_max) )\n",
    "\n",
    "    # Add initial conditions\n",
    "    opti.subject_to(X[0] == x_init)\n",
    "\n",
    "    # Add cost function and dynamics constraints\n",
    "    cost = 0\n",
    "    for k in range(N):     \n",
    "        cost += w_u * U[k].T @ U[k]\n",
    "        opti.subject_to(X[k+1] == X[k] + dt * f(X[k], U[k]))\n",
    "\n",
    "    # Add terminal cost\n",
    "    cost += (X[-1] - x_des).T @ (X[-1] - x_des)\n",
    "    opti.minimize(cost)\n",
    "\n",
    "    # create the optimization solver\n",
    "    opti.solver(\"ipopt\", {\"ipopt.print_level\": 0, \"print_time\": 0})\n",
    "    \n",
    "    return opti, X, U"
   ]
  },
  {
   "cell_type": "code",
   "execution_count": 3,
   "id": "0647eadc",
   "metadata": {
    "slideshow": {
     "slide_type": "subslide"
    }
   },
   "outputs": [],
   "source": [
    "import numpy as np\n",
    "import matplotlib.pyplot as plt\n",
    "from matplotlib.patches import Rectangle\n",
    "import time\n",
    "from ipywidgets import interact, FloatSlider\n",
    "\n",
    "dt = 0.1                           # time step\n",
    "N = 25                             # time horizon\n",
    "x_init = np.zeros(nx)              # initial state\n",
    "w_u = 1e-4                         # control weight\n",
    "u_min = -2*np.ones(nu)             # minimum value of u\n",
    "u_max = 2*np.ones(nu)              # maximum value of u\n",
    "robot_ray = 0.1                    # ray of the robot used for visualization"
   ]
  },
  {
   "cell_type": "code",
   "execution_count": 4,
   "id": "cc9b44da",
   "metadata": {
    "slideshow": {
     "slide_type": "subslide"
    }
   },
   "outputs": [],
   "source": [
    "def plot_robot(x, ray, color1='r', color2='k', fill=1, axis=None):\n",
    "    # x: 3d vector containing x, y and theta of the robot\n",
    "    # ray: length of the ray of the robot\n",
    "    # color1: color for the circle\n",
    "    # color2: color for the rectangle\n",
    "    # fill: if 1 the circle is filled with the color\n",
    "    px, py, theta = x[0], x[1], x[2]\n",
    "    if(axis is None):\n",
    "        axis = plt.gca()\n",
    "    axis.add_patch(plt.Circle((px, py), ray, color=color1, fill=fill))\n",
    "    axis.add_patch(Rectangle((px, py-0.25*ray), ray, 0.5*ray, \n",
    "                              angle=theta*180/np.pi, rotation_point=(px, py), \n",
    "                             fill=1, color=color2))\n",
    "    plt.grid(True)\n",
    "    plt.xlabel('x [m]')\n",
    "    plt.ylabel('y [m]')\n",
    "    axis.axis('equal')"
   ]
  },
  {
   "cell_type": "code",
   "execution_count": 5,
   "id": "eddc6ccd",
   "metadata": {
    "slideshow": {
     "slide_type": "subslide"
    }
   },
   "outputs": [
    {
     "data": {
      "image/png": "[encoded data removed]",
      "text/plain": [
       "<Figure size 300x300 with 1 Axes>"
      ]
     },
     "metadata": {},
     "output_type": "display_data"
    },
    {
     "data": {
      "image/png": "[encoded data removed]",
      "text/plain": [
       "<Figure size 300x300 with 1 Axes>"
      ]
     },
     "metadata": {},
     "output_type": "display_data"
    }
   ],
   "source": [
    "plt.figure(figsize=(3, 3))\n",
    "plot_robot([0, 0, 0.0], robot_ray) # show the robot with an angle theta=0\n",
    "plt.figure(figsize=(3, 3))\n",
    "plot_robot([0, 0, np.pi/4], robot_ray) # show the robot with an angle theta=pi/4"
   ]
  },
  {
   "cell_type": "code",
   "execution_count": 6,
   "id": "4d4decce",
   "metadata": {
    "slideshow": {
     "slide_type": "subslide"
    }
   },
   "outputs": [],
   "source": [
    "def solve_base_problem(px_des, py_des, theta_des):\n",
    "    opti, X, U = create_base_problem(x_init, [px_des, py_des, theta_des], u_min, u_max, w_u, N, dt)\n",
    "    sol = opti.solve()\n",
    "    x_sol = np.array([sol.value(X[k]) for k in range(N+1)]).T\n",
    "    u_sol = np.array([sol.value(U[k]) for k in range(N)]).T\n",
    "\n",
    "    plt.figure(figsize=(10, 4))\n",
    "    plt.plot(x_sol[0,:], x_sol[1,:].T, 'x-', label='x', alpha=0.7)\n",
    "    for k in range(1,N+1):\n",
    "        plot_robot(x_sol[:,k], robot_ray, 'k', fill=0)\n",
    "    plot_robot(x_init, robot_ray, 'b')\n",
    "    plot_robot((px_des, py_des, theta_des), robot_ray)\n",
    "    plt.legend()\n",
    "    plt.show()"
   ]
  },
  {
   "cell_type": "code",
   "execution_count": 7,
   "id": "3c0750ec",
   "metadata": {
    "slideshow": {
     "slide_type": "subslide"
    }
   },
   "outputs": [
    {
     "data": {
      "application/vnd.jupyter.widget-view+json": {
       "model_id": "9afb6e8ee4a64477ac375c97560ec96e",
       "version_major": 2,
       "version_minor": 0
      },
      "text/plain": [
       "interactive(children=(FloatSlider(value=1.0, description='px des', max=4.0, step=0.2), FloatSlider(value=1.0, …"
      ]
     },
     "metadata": {},
     "output_type": "display_data"
    }
   ],
   "source": [
    "slider_px = FloatSlider(value=1, min=0, max=4, step=0.2, description='px des')\n",
    "slider_py = FloatSlider(value=1, min=0, max=4, step=0.2, description='py des')\n",
    "slider_th = FloatSlider(value=0, min=-np.pi, max=np.pi, step=np.pi/10, description='theta des')\n",
    "interact(solve_base_problem, px_des=slider_px, py_des=slider_py, theta_des=slider_th);"
   ]
  },
  {
   "cell_type": "markdown",
   "id": "7247cf10",
   "metadata": {
    "slideshow": {
     "slide_type": "slide"
    }
   },
   "source": [
    "## Questions\n",
    "* What happens if you set $x_{des} = (4, 4, 0)$? Why?\n",
    "* What happens if you set $x_{des} = (0, 1, 0)$? Why? How can you overcome this?"
   ]
  },
  {
   "cell_type": "markdown",
   "id": "652f8b13",
   "metadata": {
    "slideshow": {
     "slide_type": "slide"
    }
   },
   "source": [
    "# Initial Guess\n",
    "Let's give the solver an initial guess to help it get out of local minima."
   ]
  },
  {
   "cell_type": "code",
   "execution_count": 8,
   "id": "58ad9559",
   "metadata": {
    "slideshow": {
     "slide_type": "subslide"
    }
   },
   "outputs": [],
   "source": [
    "def solve_base_problem_w_guess(px_des, py_des, theta_des):\n",
    "    opti, X, U = create_base_problem(x_init, [px_des, py_des, theta_des], u_min, u_max, w_u, N, dt)\n",
    "\n",
    "    # provide an initial guess for the state trajectory\n",
    "    for k in range(N+1):\n",
    "        opti.set_initial(X[k], [px_des, py_des, theta_des+1e-4])\n",
    "    \n",
    "    sol = opti.solve()\n",
    "    x_sol = np.array([sol.value(X[k]) for k in range(N+1)]).T\n",
    "    u_sol = np.array([sol.value(U[k]) for k in range(N)]).T\n",
    "\n",
    "    plt.figure(figsize=(10, 4))\n",
    "    plt.plot(x_sol[0,:], x_sol[1,:].T, 'x-', label='x', alpha=0.7)\n",
    "    for k in range(1,N):\n",
    "        plot_robot(x_sol[:,k], robot_ray, 'k', fill=0)\n",
    "    plot_robot(x_init, robot_ray, 'b')\n",
    "    plot_robot((px_des, py_des, theta_des), robot_ray)\n",
    "    plt.legend()\n",
    "    plt.show()"
   ]
  },
  {
   "cell_type": "code",
   "execution_count": 9,
   "id": "7fd71102",
   "metadata": {
    "slideshow": {
     "slide_type": "subslide"
    }
   },
   "outputs": [
    {
     "data": {
      "application/vnd.jupyter.widget-view+json": {
       "model_id": "ead819d07e304e578b7386ac5dad23c8",
       "version_major": 2,
       "version_minor": 0
      },
      "text/plain": [
       "interactive(children=(FloatSlider(value=0.0, description='px des', max=4.0, step=0.2), FloatSlider(value=1.0, …"
      ]
     },
     "metadata": {},
     "output_type": "display_data"
    }
   ],
   "source": [
    "slider_px = FloatSlider(value=0, min=0, max=4, step=0.2, description='px des')\n",
    "slider_py = FloatSlider(value=1, min=0, max=4, step=0.2, description='py des')\n",
    "slider_th = FloatSlider(value=0, min=-np.pi, max=np.pi, step=np.pi/10, description='theta des')\n",
    "interact(solve_base_problem_w_guess, px_des=slider_px, py_des=slider_py, theta_des=slider_th);"
   ]
  },
  {
   "cell_type": "markdown",
   "id": "5d30cfe4",
   "metadata": {
    "slideshow": {
     "slide_type": "slide"
    }
   },
   "source": [
    "# Collision avoidance with circular obstacles\n",
    "Let us now introduce an obstacle with circular shape in the environment. \n",
    "A 2D point $(x,y)$ belongs to a circle centered at $(c_x, c_y)$ with ray $r_o$ if it satisfies the inequality:\n",
    "$$ \\sqrt{(x-c_x)^2 + (y-c_y)^2} \\le r_o$$"
   ]
  },
  {
   "cell_type": "markdown",
   "id": "cf6cec2c",
   "metadata": {
    "slideshow": {
     "slide_type": "fragment"
    }
   },
   "source": [
    "Assuming the robot has a circular shape with ray $r$, we can check collision between robot and obstacle by checking that their distance is greater than the sum of their radii:\n",
    "$$ \\sqrt{(p_x-c_x)^2 + (p_y-c_y)^2} \\le r+r_o$$"
   ]
  },
  {
   "cell_type": "markdown",
   "id": "67849426",
   "metadata": {
    "slideshow": {
     "slide_type": "fragment"
    }
   },
   "source": [
    "Let's extend the optimal control problem to include this obstacle-avoidance constraint."
   ]
  },
  {
   "cell_type": "code",
   "execution_count": 10,
   "id": "5a7983b8",
   "metadata": {
    "slideshow": {
     "slide_type": "subslide"
    }
   },
   "outputs": [],
   "source": [
    "from matplotlib.patches import Ellipse\n",
    "from ipywidgets import interact, fixed, FloatSlider\n",
    "\n",
    "dt = 0.1                           # time step\n",
    "N = 25                             # time horizon\n",
    "x_init = np.zeros(nx)              # initial state\n",
    "x_des = [2, 2, 3.14]               # target state\n",
    "w_u = 1e-4                         # control weight\n",
    "u_min = -2*np.ones(nu)             # minimum value of u\n",
    "u_max = 2*np.ones(nu)              # maximum value of u\n",
    "ray_robot = 0.1                    # ray of the robot"
   ]
  },
  {
   "cell_type": "code",
   "execution_count": 11,
   "id": "b4894668",
   "metadata": {
    "slideshow": {
     "slide_type": "subslide"
    }
   },
   "outputs": [],
   "source": [
    "def solve_problem_w_obstacle(x_obst, y_obst, ray_obst, show_plot, return_sol):\n",
    "    # create base problem w/o collision avoidance\n",
    "    opti, X, U = create_base_problem(x_init, x_des, u_min, u_max, w_u, N, dt)\n",
    "    \n",
    "    # add collision avoidance constraints\n",
    "    for k in range(1, N+1):\n",
    "        d = X[k][:2] - np.array([x_obst, y_obst])\n",
    "        opti.subject_to( cs.sqrt(d[0]**2 + d[1]**2) >= ray_obst+ray_robot)\n",
    "\n",
    "    # solve the problem\n",
    "    sol = opti.solve()\n",
    "    x_sol = np.array([sol.value(X[k]) for k in range(N+1)]).T\n",
    "    u_sol = np.array([sol.value(U[k]) for k in range(N)]).T\n",
    "\n",
    "    plt.figure(figsize=(10, 4))\n",
    "    plt.plot(x_sol[0,:], x_sol[1,:].T, 'x-', label='x', alpha=0.7)\n",
    "    for k in range(1,N):\n",
    "        plot_robot(x_sol[:,k], robot_ray, 'k', fill=0)\n",
    "    plot_robot(x_init, robot_ray, 'b')\n",
    "    plot_robot(x_des, robot_ray, 'r')\n",
    "    plt.gca().add_patch(plt.Circle((x_obst, y_obst), ray_obst, color='k', label=\"Obstacle\"))\n",
    "    plt.legend()\n",
    "    if(show_plot): \n",
    "        plt.show()\n",
    "    if(return_sol):\n",
    "        return x_sol, u_sol"
   ]
  },
  {
   "cell_type": "code",
   "execution_count": 12,
   "id": "d3b56dea",
   "metadata": {
    "slideshow": {
     "slide_type": "slide"
    }
   },
   "outputs": [
    {
     "data": {
      "application/vnd.jupyter.widget-view+json": {
       "model_id": "509f900c6a714f698e2091005a640d6b",
       "version_major": 2,
       "version_minor": 0
      },
      "text/plain": [
       "interactive(children=(FloatSlider(value=1.0, description='x_obst', max=3.0, step=0.2), FloatSlider(value=1.0, …"
      ]
     },
     "metadata": {},
     "output_type": "display_data"
    }
   ],
   "source": [
    "interact(solve_problem_w_obstacle, x_obst=(0, 3, 0.2), y_obst=(0,3,0.2), ray_obst=(0.1, 0.5, 0.1), \n",
    "         show_plot=fixed(True), return_sol=fixed(False));"
   ]
  },
  {
   "cell_type": "markdown",
   "id": "cea57810",
   "metadata": {
    "slideshow": {
     "slide_type": "slide"
    }
   },
   "source": [
    "## Questions\n",
    "* What happens if you move the obstacle in (2, 2)?\n",
    "* What happens if you move the obstacle in (0, 0)? Why? How can we fix this?\n",
    "* What happens if you check collisions in-between time steps?"
   ]
  },
  {
   "cell_type": "code",
   "execution_count": 13,
   "id": "e0c9e873",
   "metadata": {
    "slideshow": {
     "slide_type": "slide"
    }
   },
   "outputs": [
    {
     "name": "stdout",
     "output_type": "stream",
     "text": [
      "Collision detected at time step 10. Margin: -0.02679353015537314\n"
     ]
    },
    {
     "data": {
      "image/png": "[encoded data removed]",
      "text/plain": [
       "<Figure size 1000x400 with 1 Axes>"
      ]
     },
     "metadata": {},
     "output_type": "display_data"
    }
   ],
   "source": [
    "x_obst, y_obst, ray_obst = 1, 1, 0.1\n",
    "X, U = solve_problem_w_obstacle(x_obst, y_obst, ray_obst, show_plot=False, return_sol=True)\n",
    "from math import sqrt\n",
    "for k in range(N):\n",
    "    x = 0.5*(X[:,k]+X[:,k+1]) # compute state in-between time steps\n",
    "    d = x[:2] - np.array([x_obst, y_obst]) \n",
    "    margin = sqrt(d[0]**2 + d[1]**2) - (ray_obst+ray_robot)\n",
    "    if(margin<0.0): # check collision\n",
    "        print(f\"Collision detected at time step {k}. Margin: {margin}\")\n",
    "        plot_robot(x, ray_robot, color1='y') # display a yellow robot when it collides\n",
    "plt.show()"
   ]
  },
  {
   "cell_type": "markdown",
   "id": "ce61d46b",
   "metadata": {
    "slideshow": {
     "slide_type": "slide"
    }
   },
   "source": [
    "# How to ensure collision avoidance in continuous time?"
   ]
  },
  {
   "cell_type": "markdown",
   "id": "4d7fa340",
   "metadata": {
    "slideshow": {
     "slide_type": "fragment"
    }
   },
   "source": [
    "* Add safety margin (hard to know how much)\n",
    "* Decrease time step\n",
    "* Add extra constraints in-between time steps\n",
    "* Check collisions with convex hull of robot shapes between consecutive time steps"
   ]
  },
  {
   "cell_type": "markdown",
   "id": "0351e7ec",
   "metadata": {
    "slideshow": {
     "slide_type": "slide"
    }
   },
   "source": [
    "# Collision avoidance with polygonal obstacles\n",
    "What if some obstacles (or the robot) are not well approximated by a circle?"
   ]
  },
  {
   "cell_type": "markdown",
   "id": "936a78c5",
   "metadata": {
    "slideshow": {
     "slide_type": "fragment"
    }
   },
   "source": [
    "A convex polygon is defined by a set of $K$ vertices $v_i = (x_i, y_i)$, $\\forall i\\in [0, K-1]$."
   ]
  },
  {
   "cell_type": "markdown",
   "id": "19d43f1d",
   "metadata": {
    "slideshow": {
     "slide_type": "fragment"
    }
   },
   "source": [
    "How can we check if a point $p=(p_x, p_y)$ does not collide with a polygon?"
   ]
  },
  {
   "cell_type": "markdown",
   "id": "4b1dcd52",
   "metadata": {
    "slideshow": {
     "slide_type": "subslide"
    }
   },
   "source": [
    "### Option 1\n",
    "Try to express $p$ as a convex combination of the vertices:\n",
    "$$ p = \\sum_{i=0}^{K-1} v_i \\, \\lambda_i, $$\n",
    "with:\n",
    "$$ \\sum_{i=0}^{K-1} \\lambda_i = 1, \\qquad \\lambda_i \\ge 0 \\quad \\forall i \\in [0, K-1]$$\n",
    "If a solution $\\lambda$ does not exist then it means that $p$ does not collide with the polygon."
   ]
  },
  {
   "cell_type": "markdown",
   "id": "bc229af7",
   "metadata": {
    "slideshow": {
     "slide_type": "fragment"
    }
   },
   "source": [
    "This is **not usable** because it requires the solver to fail to find a solution to certify collision avoidance."
   ]
  },
  {
   "cell_type": "markdown",
   "id": "4218ebd8",
   "metadata": {
    "slideshow": {
     "slide_type": "subslide"
    }
   },
   "source": [
    "### Option 2\n",
    "Try to find a line that separates $p$ and the vertices:\n",
    "$$ a^T p + b \\ge 0 \\qquad \\qquad \\qquad \\qquad$$\n",
    "$$ a^T v_i + b < 0, \\qquad \\forall i \\in [0, K-1]$$\n",
    "$$ ||a||^2 = 1 \\qquad \\qquad \\qquad \\qquad$$\n",
    "If such values of $a$ and $b$ exist, then $p$ does not collide with the polygon."
   ]
  },
  {
   "cell_type": "markdown",
   "id": "2d43b73b",
   "metadata": {
    "slideshow": {
     "slide_type": "fragment"
    }
   },
   "source": [
    "This is **usable** because to certify collision avoidance the solver must find a solution."
   ]
  },
  {
   "cell_type": "code",
   "execution_count": 14,
   "id": "09e4004b",
   "metadata": {
    "slideshow": {
     "slide_type": "skip"
    }
   },
   "outputs": [],
   "source": [
    "from matplotlib.patches import Polygon"
   ]
  },
  {
   "cell_type": "code",
   "execution_count": 15,
   "id": "47824171",
   "metadata": {
    "slideshow": {
     "slide_type": "slide"
    }
   },
   "outputs": [],
   "source": [
    "def check_collision(p_x, p_y, V):\n",
    "    p = np.array([p_x, p_y])\n",
    "    # create optimization problem\n",
    "    opti = cs.Opti()\n",
    "    # Create the decision variables a and b\n",
    "    a, b = opti.variable(2), opti.variable(1)\n",
    "    opti.subject_to(a.T @ p + b >= 0.0)\n",
    "    for i in range(len(V)):\n",
    "        opti.subject_to(a.T @ V[i] + b < 0.0)\n",
    "    opti.subject_to(a.T @ a == 1) # ensure a has unit norm\n",
    "\n",
    "    # create the optimization solver\n",
    "    opti.solver(\"ipopt\", {\"ipopt.print_level\": 0, \"print_time\": 0})\n",
    "    try: # try to solve the problem\n",
    "        sol = opti.solve()\n",
    "        a_sol, b_sol = sol.value(a), sol.value(b)\n",
    "        collision = False\n",
    "    except:\n",
    "#         print(\"Solver has failed:\", opti.debug.stats()['return_status'])\n",
    "        sol = opti.debug\n",
    "        a_sol, b_sol = None, None\n",
    "        collision = True\n",
    "        \n",
    "    return collision, a_sol, b_sol"
   ]
  },
  {
   "cell_type": "code",
   "execution_count": 16,
   "id": "3a958bf1",
   "metadata": {
    "slideshow": {
     "slide_type": "slide"
    }
   },
   "outputs": [],
   "source": [
    "def check_collision_and_plot(p_x, p_y, V):    \n",
    "    collision, a, b = check_collision(p_x, p_y, V)\n",
    "\n",
    "    if(not collision): # plot the line\n",
    "        X = np.linspace(-1, 1, 2)\n",
    "        plt.plot(X, (a[0]*X + b)/(-a[1]), label=\"a*x+b\")\n",
    "\n",
    "    # plot the polygon and its vertices\n",
    "    plt.gca().add_patch(Polygon(np.array(V)))\n",
    "    for i in range(len(V)):\n",
    "        plt.plot(V[i][0], V[i][1], 'k o', markersize=5, label=\"vertex\")\n",
    "    \n",
    "    # plot the point\n",
    "    if(collision): # red if in collision\n",
    "        plt.plot(p_x, p_y, 'r v', markersize=10, label='point in collision')\n",
    "    else: # blue if not in collision\n",
    "        plt.plot(p_x, p_y, 'b v', markersize=10, label='point not in collision')\n",
    "\n",
    "    plt.grid(True)\n",
    "    plt.legend()\n",
    "    plt.xlabel('x [m]')\n",
    "    plt.ylabel('y [m]')\n",
    "    plt.xlim([-1, 1])\n",
    "    plt.ylim([-1, 1])\n",
    "    plt.show()"
   ]
  },
  {
   "cell_type": "code",
   "execution_count": 17,
   "id": "1d46d0a1",
   "metadata": {
    "slideshow": {
     "slide_type": "slide"
    }
   },
   "outputs": [],
   "source": [
    "# define the list of vertices of the obstacle\n",
    "V = []\n",
    "V.append(np.array([ 0.3,  0.4]))\n",
    "V.append(np.array([ 0.5,  0.0]))\n",
    "V.append(np.array([ 0.3, -0.3]))\n",
    "V.append(np.array([-0.3, -0.2]))\n",
    "V.append(np.array([-0.3,  0.3]))"
   ]
  },
  {
   "cell_type": "code",
   "execution_count": 18,
   "id": "b9ef74f6",
   "metadata": {
    "slideshow": {
     "slide_type": "slide"
    }
   },
   "outputs": [
    {
     "data": {
      "application/vnd.jupyter.widget-view+json": {
       "model_id": "0d09be85b2c241b3854e36f73af9133b",
       "version_major": 2,
       "version_minor": 0
      },
      "text/plain": [
       "interactive(children=(FloatSlider(value=0.0, description='p_x', max=1.0, min=-1.0, step=0.05), FloatSlider(val…"
      ]
     },
     "metadata": {},
     "output_type": "display_data"
    },
    {
     "data": {
      "text/plain": [
       "<function __main__.check_collision_and_plot(p_x, p_y, V)>"
      ]
     },
     "execution_count": 18,
     "metadata": {},
     "output_type": "execute_result"
    }
   ],
   "source": [
    "interact(check_collision_and_plot, p_x=(-1,1,0.05), p_y=(-1,1,0.05), V=fixed(V))"
   ]
  },
  {
   "cell_type": "markdown",
   "id": "f245dcee",
   "metadata": {
    "slideshow": {
     "slide_type": "slide"
    }
   },
   "source": [
    "# Checking collision between a polygon and a sphere\n",
    "Since the robot is modeled as a sphere, we need to check collision between a sphere and a polygon.\n",
    "We can easily extend the method used above. "
   ]
  },
  {
   "cell_type": "markdown",
   "id": "d4cf4951",
   "metadata": {
    "slideshow": {
     "slide_type": "fragment"
    }
   },
   "source": [
    "Assume the robot is in position $p$ and its ray has length $r$. Collision avoidance is ensured if the following constraints admit a solution:\n",
    "$$ a^T p + b \\ge r \\qquad \\qquad \\qquad \\qquad$$\n",
    "$$ a^T v_i + b < 0, \\qquad \\forall i \\in [0, K-1]$$\n",
    "$$ ||a||^2 = 1 \\qquad \\qquad \\qquad \\qquad$$\n",
    "\n",
    "Let's solve a trajectory optimization problem with polygonal obstacles."
   ]
  },
  {
   "cell_type": "code",
   "execution_count": 19,
   "id": "ebd244b5",
   "metadata": {
    "slideshow": {
     "slide_type": "subslide"
    }
   },
   "outputs": [],
   "source": [
    "dt = 0.1                           # time step\n",
    "N = 25                             # time horizon\n",
    "x_init = np.zeros(nx)              # initial state\n",
    "x_des = [2, 2, 3.14]               # target state\n",
    "w_u = 1e-4                         # control weight\n",
    "u_min = -2*np.ones(nu)             # minimum value of u\n",
    "u_max = 2*np.ones(nu)              # maximum value of u\n",
    "ray_robot = 0.1                    # ray of the robot"
   ]
  },
  {
   "cell_type": "code",
   "execution_count": 20,
   "id": "1bd445d2",
   "metadata": {
    "slideshow": {
     "slide_type": "subslide"
    }
   },
   "outputs": [],
   "source": [
    "def solve_problem_w_poly_obst(V_obst, show_plot, return_sol):\n",
    "    # create base problem w/o collision avoidance\n",
    "    opti, X, U = create_base_problem(x_init, x_des, u_min, u_max, w_u, N, dt)\n",
    "    \n",
    "    # add collision avoidance constraints\n",
    "    for k in range(1, N+1):\n",
    "        a, b = opti.variable(2), opti.variable(1)\n",
    "        opti.subject_to( a.T @ a == 1)\n",
    "        opti.subject_to( a.T @ X[k][:2] + b >= ray_robot)\n",
    "        for i in range(V_obst.shape[0]):\n",
    "            opti.subject_to( a.T @ V_obst[i,:].T + b < 0.0)\n",
    "\n",
    "    # solve the problem\n",
    "    sol = opti.solve()\n",
    "    x_sol = np.array([sol.value(X[k]) for k in range(N+1)]).T\n",
    "    u_sol = np.array([sol.value(U[k]) for k in range(N)]).T\n",
    "\n",
    "    plt.figure(figsize=(10, 4))\n",
    "    plt.plot(x_sol[0,:], x_sol[1,:].T, 'x-', label='x', alpha=0.7)\n",
    "    for k in range(1,N+1):\n",
    "        plot_robot(x_sol[:,k], robot_ray, 'k', fill=0)\n",
    "    plot_robot(x_init, robot_ray, 'b')\n",
    "    plot_robot(x_des, robot_ray, 'r')\n",
    "    plt.gca().add_patch(Polygon(V_obst, color='k', label=\"Obstacle\"))\n",
    "    plt.legend()\n",
    "    if(show_plot): \n",
    "        plt.show()\n",
    "    if(return_sol):\n",
    "        return x_sol, u_sol"
   ]
  },
  {
   "cell_type": "code",
   "execution_count": 21,
   "id": "ba2951f1",
   "metadata": {
    "slideshow": {
     "slide_type": "subslide"
    }
   },
   "outputs": [],
   "source": [
    "# define the list of vertices of the obstacle\n",
    "V = []\n",
    "V.append(np.array([ 0.3,  0.4]))\n",
    "V.append(np.array([ 0.5,  0.0]))\n",
    "V.append(np.array([ 0.3, -0.3]))\n",
    "V.append(np.array([-0.3, -0.2]))\n",
    "V.append(np.array([-0.3,  0.3]))\n",
    "V = np.array(V)\n",
    "\n",
    "def poly_obst_interactive(x_obst, y_obst):\n",
    "    V_obst = V + np.array([x_obst, y_obst])\n",
    "    solve_problem_w_poly_obst(V_obst, show_plot=True, return_sol=False)"
   ]
  },
  {
   "cell_type": "code",
   "execution_count": 22,
   "id": "5889eab6",
   "metadata": {
    "slideshow": {
     "slide_type": "subslide"
    }
   },
   "outputs": [
    {
     "data": {
      "application/vnd.jupyter.widget-view+json": {
       "model_id": "201cf31287df4accaa0900aa232ccb15",
       "version_major": 2,
       "version_minor": 0
      },
      "text/plain": [
       "interactive(children=(FloatSlider(value=1.0, description='x_obst', max=2.0, min=0.2, step=0.2), FloatSlider(va…"
      ]
     },
     "metadata": {},
     "output_type": "display_data"
    }
   ],
   "source": [
    "interact(poly_obst_interactive, x_obst=(0.2, 2, 0.2), y_obst=(0.2, 2, 0.2));"
   ]
  },
  {
   "cell_type": "markdown",
   "id": "475f6f17",
   "metadata": {
    "slideshow": {
     "slide_type": "slide"
    }
   },
   "source": [
    "# Summary\n",
    "* We can **quickly** optimize trajectories to reach a target while **avoiding an obstacle**\n",
    "* **Multiple obstacles** could be considered at once\n",
    "* Robot/obstacles can have either **circular** or **polygonal** shapes\n",
    "* Constraints are only ensured at **discrete time steps**\n",
    "* Solvers can fall in bad **local minima**\n",
    "* **Initial guesses** can help the solver"
   ]
  },
  {
   "cell_type": "markdown",
   "id": "46570dd2",
   "metadata": {
    "slideshow": {
     "slide_type": "slide"
    }
   },
   "source": [
    "# Extensions\n",
    "### Robustness\n",
    "* Introduce safety margin $s\\ge0$ as decision variable\n",
    "* Maximize $s$ in cost function\n",
    "* Add safety margin in collision avoidance constraints, e.g.: $ a^T p + b \\ge r +s$"
   ]
  },
  {
   "cell_type": "markdown",
   "id": "be786473",
   "metadata": {
    "slideshow": {
     "slide_type": "subslide"
    }
   },
   "source": [
    "### Smoothness\n",
    "* How can we ensure continuous velocities/accelerations?\n",
    "* Increase dynamics order\n",
    "    * Include velocities in state:\n",
    "$$ x = [p_x, p_y, \\theta, v, \\omega]$$\n",
    "    * Accelerations become the new control inputs:\n",
    "$$ u = [\\dot{v}, \\dot{\\omega}]$$"
   ]
  }
 ],
 "metadata": {
  "celltoolbar": "Slideshow",
  "kernelspec": {
   "display_name": "Python 3 (ipykernel)",
   "language": "python",
   "name": "python3"
  },
  "language_info": {
   "codemirror_mode": {
    "name": "ipython",
    "version": 3
   },
   "file_extension": ".py",
   "mimetype": "text/x-python",
   "name": "python",
   "nbconvert_exporter": "python",
   "pygments_lexer": "ipython3",
   "version": "3.10.13"
  }
 },
 "nbformat": 4,
 "nbformat_minor": 5
}
